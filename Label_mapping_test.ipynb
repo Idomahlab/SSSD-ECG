{
 "cells": [
  {
   "cell_type": "code",
   "execution_count": null,
   "metadata": {},
   "outputs": [],
   "source": [
    "import wfdb\n",
    "\n",
    "import scipy.io\n",
    "\n",
    "import numpy as np\n",
    "import pandas as pd\n",
    "\n",
    "#from skimage import transform\n",
    "#from scipy.ndimage import zoom\n",
    "import resampy\n",
    "from tqdm.auto import tqdm\n",
    "from pathlib import Path\n",
    "\n",
    "#thew\n",
    "from ishneholterlib import Holter\n",
    "from .stratify import stratify,stratify_batched\n",
    "\n",
    "#ribeiro\n",
    "import h5py\n",
    "import datetime\n",
    "\n",
    "#from clinical_ts.misc_utils import *\n",
    "from .timeseries_utils import *"
   ]
  },
  {
   "cell_type": "code",
   "execution_count": null,
   "metadata": {},
   "outputs": [],
   "source": [
    "def map_and_filter_labels(df,min_cnt,lbl_cols):\n",
    "    #filter labels\n",
    "    def select_labels(labels, min_cnt=10):\n",
    "        lbl, cnt = np.unique([item for sublist in list(labels) for item in sublist], return_counts=True)\n",
    "        return list(lbl[np.where(cnt>=min_cnt)[0]])\n",
    "    df_ptb_xl = df.copy()\n",
    "    lbl_itos_ptb_xl = {}\n",
    "    for selection in lbl_cols:\n",
    "        if(min_cnt>0):\n",
    "            label_selected = select_labels(df_ptb_xl[selection],min_cnt=min_cnt)\n",
    "            df_ptb_xl[selection+\"_filtered\"]=df_ptb_xl[selection].apply(lambda x:[y for y in x if y in label_selected])\n",
    "            lbl_itos_ptb_xl[selection+\"_filtered\"] = np.array(sorted(list(set([x for sublist in df_ptb_xl[selection+\"_filtered\"] for x in sublist]))))\n",
    "            lbl_stoi = {s:i for i,s in enumerate(lbl_itos_ptb_xl[selection+\"_filtered\"])}\n",
    "            df_ptb_xl[selection+\"_filtered_numeric\"]=df_ptb_xl[selection+\"_filtered\"].apply(lambda x:[lbl_stoi[y] for y in x])\n",
    "        #also lbl_itos and ..._numeric col for original label column\n",
    "        lbl_itos_ptb_xl[selection]= np.array(sorted(list(set([x for sublist in df_ptb_xl[selection] for x in sublist]))))\n",
    "        lbl_stoi = {s:i for i,s in enumerate(lbl_itos_ptb_xl[selection])}\n",
    "        df_ptb_xl[selection+\"_numeric\"]=df_ptb_xl[selection].apply(lambda x:[lbl_stoi[y] for y in x])\n",
    "    return df_ptb_xl, lbl_itos_ptb_xl"
   ]
  }
 ],
 "metadata": {
  "language_info": {
   "name": "python"
  }
 },
 "nbformat": 4,
 "nbformat_minor": 2
}
